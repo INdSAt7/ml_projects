{
 "cells": [
  {
   "cell_type": "code",
   "execution_count": 50,
   "metadata": {},
   "outputs": [],
   "source": [
    "import pandas as pd\n",
    "import numpy as np\n",
    "import seaborn as sns\n",
    "import optuna\n",
    "from functools import cache\n",
    "from joblib import dump, load\n",
    "from scipy.sparse import hstack\n",
    "from collections import Counter\n",
    "from tqdm import tqdm\n",
    "\n",
    "import filling_missing_data\n",
    "import memory_optimization\n",
    "import text_processing\n",
    "import saving_data\n",
    "\n",
    "from imblearn.under_sampling import RandomUnderSampler\n",
    "from sklearn.model_selection import KFold\n",
    "from sklearn.metrics import fbeta_score\n",
    "from sklearn.decomposition import PCA\n",
    "from sklearn.preprocessing import StandardScaler\n",
    "from sklearn.model_selection import train_test_split, RandomizedSearchCV\n",
    "from xgboost import XGBClassifier\n",
    "from sklearn.svm import SVC\n",
    "from sklearn.neighbors import KNeighborsClassifier\n",
    "from sklearn.ensemble import RandomForestClassifier\n",
    "from catboost import CatBoostClassifier\n",
    "from sklearn.metrics import f1_score, classification_report\n",
    "from sklearn.feature_extraction.text import TfidfVectorizer\n",
    "from sklearn.ensemble import StackingClassifier\n",
    "from sklearn.linear_model import LogisticRegression\n",
    "\n",
    "from sentence_transformers import SentenceTransformer"
   ]
  },
  {
   "cell_type": "code",
   "execution_count": 51,
   "metadata": {},
   "outputs": [],
   "source": [
    "def log10_positive(series: pd.Series) -> pd.Series:\n",
    "  return np.where(series > 0, np.log10(series), series)"
   ]
  },
  {
   "cell_type": "code",
   "execution_count": 52,
   "metadata": {},
   "outputs": [],
   "source": [
    "def fct_lump(data, n, other_category='Other'):\n",
    "    if not isinstance(data, pd.Series):\n",
    "        data = pd.Series(data)\n",
    "\n",
    "    counts = data.value_counts()\n",
    "    categories_to_keep = counts.nlargest(n).index\n",
    "    data_lumped = data.where(data.isin(categories_to_keep), other_category)\n",
    "    return data_lumped"
   ]
  },
  {
   "cell_type": "code",
   "execution_count": 53,
   "metadata": {},
   "outputs": [],
   "source": [
    "def get_text_embeddings(model, series: pd.Series, cache_ = False):\n",
    "\n",
    "    @cache\n",
    "    def _encode(sentence):\n",
    "        return model.encode([sentence])[0]\n",
    "\n",
    "    if cache_:\n",
    "        embeddings = []\n",
    "        for sentence in series.tolist():\n",
    "            embeddings.append(_encode(sentence))\n",
    "        return np.vstack(embeddings)\n",
    "    else:\n",
    "        embeddings = model.encode(series.tolist())\n",
    "        return embeddings"
   ]
  },
  {
   "cell_type": "code",
   "execution_count": 54,
   "metadata": {},
   "outputs": [],
   "source": [
    "def perform_pca(df, n_components, name):\n",
    "    scaler = StandardScaler()\n",
    "    scaled_data = scaler.fit_transform(df)\n",
    "    \n",
    "    pca = PCA(n_components=n_components)\n",
    "    principal_components = pca.fit_transform(scaled_data)\n",
    "    \n",
    "    pca_df = pd.DataFrame(data=principal_components, columns=[f'PC_{name}_{i+1}' for i in range(n_components)])\n",
    "    \n",
    "    explained_variance = pca.explained_variance_ratio_\n",
    "    \n",
    "    cumulative_variance = explained_variance.cumsum()\n",
    "    \n",
    "    #print(f'Variance explained by the first {n_components} components: {cumulative_variance[-1]:.4f}')\n",
    "    \n",
    "    return pca_df"
   ]
  },
  {
   "cell_type": "code",
   "execution_count": 55,
   "metadata": {},
   "outputs": [],
   "source": [
    "model = SentenceTransformer(\"all-mpnet-base-v2\")"
   ]
  },
  {
   "cell_type": "markdown",
   "metadata": {},
   "source": [
    "1. Чтение и форматирование данных"
   ]
  },
  {
   "cell_type": "code",
   "execution_count": 56,
   "metadata": {},
   "outputs": [],
   "source": [
    "train = pd.read_csv('src\\\\train.csv')\n",
    "test = pd.read_csv('src\\\\test_feat.csv')"
   ]
  },
  {
   "cell_type": "code",
   "execution_count": 57,
   "metadata": {},
   "outputs": [],
   "source": [
    "columns_for_rename = {'лимит_нарушен': 'limit_exceeded', \\\n",
    "                      'пол': 'sex', \\\n",
    "                      'тип': 'type', \\\n",
    "                      'цель': 'purpose', \\\n",
    "                      'кредитоспособность': 'creditworthiness', \\\n",
    "                      'другие_кредиты': 'other_loans', \\\n",
    "                      'бизнес': 'buisness', \\\n",
    "                      'сумма': 'amount', \\\n",
    "                      'сбор': 'collection', \\\n",
    "                      'срок': 'time', \\\n",
    "                      'амортизация': 'amortization', \\\n",
    "                      'только_процент': 'percentage_only', \\\n",
    "                      'один_платеж': 'one_payment', \\\n",
    "                      'стоимость_имущества': 'property_price', \\\n",
    "                      'работа': 'housing_type', \\\n",
    "                      'тип_залога': 'deposite_type', \\\n",
    "                      'тип_кредита': 'credit_type', \\\n",
    "                      'кредитный_рейтинг': 'credit_score', \\\n",
    "                      'возраст': 'age_category', \\\n",
    "                      'прямой_залог': 'direct_deposite', \\\n",
    "                      'речь': 'speech'\n",
    "}\n",
    "\n",
    "train.rename(columns=columns_for_rename, inplace=True)\n",
    "train.rename(columns={'дефолт': 'target'}, inplace=True)\n",
    "test.rename(columns=columns_for_rename, inplace=True)"
   ]
  },
  {
   "cell_type": "markdown",
   "metadata": {},
   "source": [
    "2. Общая информация"
   ]
  },
  {
   "cell_type": "code",
   "execution_count": 58,
   "metadata": {},
   "outputs": [
    {
     "data": {
      "text/html": [
       "<div>\n",
       "<style scoped>\n",
       "    .dataframe tbody tr th:only-of-type {\n",
       "        vertical-align: middle;\n",
       "    }\n",
       "\n",
       "    .dataframe tbody tr th {\n",
       "        vertical-align: top;\n",
       "    }\n",
       "\n",
       "    .dataframe thead th {\n",
       "        text-align: right;\n",
       "    }\n",
       "</style>\n",
       "<table border=\"1\" class=\"dataframe\">\n",
       "  <thead>\n",
       "    <tr style=\"text-align: right;\">\n",
       "      <th></th>\n",
       "      <th>ID</th>\n",
       "      <th>limit_exceeded</th>\n",
       "      <th>sex</th>\n",
       "      <th>type</th>\n",
       "      <th>purpose</th>\n",
       "      <th>creditworthiness</th>\n",
       "      <th>other_loans</th>\n",
       "      <th>buisness</th>\n",
       "      <th>amount</th>\n",
       "      <th>collection</th>\n",
       "      <th>...</th>\n",
       "      <th>one_payment</th>\n",
       "      <th>property_price</th>\n",
       "      <th>housing_type</th>\n",
       "      <th>deposite_type</th>\n",
       "      <th>credit_type</th>\n",
       "      <th>credit_score</th>\n",
       "      <th>age_category</th>\n",
       "      <th>direct_deposite</th>\n",
       "      <th>target</th>\n",
       "      <th>speech</th>\n",
       "    </tr>\n",
       "  </thead>\n",
       "  <tbody>\n",
       "    <tr>\n",
       "      <th>0</th>\n",
       "      <td>9e0a294e-c3cc-4aac-a489-41f479a55d6f</td>\n",
       "      <td>0.0</td>\n",
       "      <td>м</td>\n",
       "      <td>3.0</td>\n",
       "      <td>0.0</td>\n",
       "      <td>1.0</td>\n",
       "      <td>NaN</td>\n",
       "      <td>0.0</td>\n",
       "      <td>174765.264968</td>\n",
       "      <td>normal</td>\n",
       "      <td>...</td>\n",
       "      <td>0.0</td>\n",
       "      <td>244488.111841</td>\n",
       "      <td>осн</td>\n",
       "      <td>дом</td>\n",
       "      <td>2.0</td>\n",
       "      <td>709.508335</td>\n",
       "      <td>55-64</td>\n",
       "      <td>1.0</td>\n",
       "      <td>0</td>\n",
       "      <td>\"Hey there! I’m a guy with a solid job and a m...</td>\n",
       "    </tr>\n",
       "    <tr>\n",
       "      <th>1</th>\n",
       "      <td>e1509425-891f-4683-9e12-dbf1493d6196</td>\n",
       "      <td>0.0</td>\n",
       "      <td>NaN</td>\n",
       "      <td>NaN</td>\n",
       "      <td>0.0</td>\n",
       "      <td>1.0</td>\n",
       "      <td>0.0</td>\n",
       "      <td>0.0</td>\n",
       "      <td>NaN</td>\n",
       "      <td>want</td>\n",
       "      <td>...</td>\n",
       "      <td>0.0</td>\n",
       "      <td>NaN</td>\n",
       "      <td>осн</td>\n",
       "      <td>дом</td>\n",
       "      <td>1.0</td>\n",
       "      <td>722.508335</td>\n",
       "      <td>55-64</td>\n",
       "      <td>NaN</td>\n",
       "      <td>0</td>\n",
       "      <td>\"Hi there! We are a couple with a solid financ...</td>\n",
       "    </tr>\n",
       "    <tr>\n",
       "      <th>2</th>\n",
       "      <td>10b6a662-2ac1-45ca-8e5d-8f1296b31f4a</td>\n",
       "      <td>0.0</td>\n",
       "      <td>м</td>\n",
       "      <td>3.0</td>\n",
       "      <td>1.0</td>\n",
       "      <td>1.0</td>\n",
       "      <td>0.0</td>\n",
       "      <td>0.0</td>\n",
       "      <td>NaN</td>\n",
       "      <td>regular</td>\n",
       "      <td>...</td>\n",
       "      <td>NaN</td>\n",
       "      <td>364488.111841</td>\n",
       "      <td>осн</td>\n",
       "      <td>дом</td>\n",
       "      <td>1.0</td>\n",
       "      <td>785.508335</td>\n",
       "      <td>55-64</td>\n",
       "      <td>1.0</td>\n",
       "      <td>0</td>\n",
       "      <td>\"I'm a male client with a modest income. I wor...</td>\n",
       "    </tr>\n",
       "    <tr>\n",
       "      <th>3</th>\n",
       "      <td>3b895644-549d-43b5-8dfe-448cacb70476</td>\n",
       "      <td>0.0</td>\n",
       "      <td>NaN</td>\n",
       "      <td>3.0</td>\n",
       "      <td>1.0</td>\n",
       "      <td>1.0</td>\n",
       "      <td>0.0</td>\n",
       "      <td>0.0</td>\n",
       "      <td>474765.264968</td>\n",
       "      <td>common</td>\n",
       "      <td>...</td>\n",
       "      <td>0.0</td>\n",
       "      <td>894488.111841</td>\n",
       "      <td>осн</td>\n",
       "      <td>дом</td>\n",
       "      <td>NaN</td>\n",
       "      <td>594.508335</td>\n",
       "      <td>35-44</td>\n",
       "      <td>1.0</td>\n",
       "      <td>0</td>\n",
       "      <td>\"Hello, we’re a working couple enjoying the st...</td>\n",
       "    </tr>\n",
       "    <tr>\n",
       "      <th>4</th>\n",
       "      <td>e0b641d0-4345-429c-9655-8df410af54cc</td>\n",
       "      <td>0.0</td>\n",
       "      <td>NaN</td>\n",
       "      <td>3.0</td>\n",
       "      <td>1.0</td>\n",
       "      <td>NaN</td>\n",
       "      <td>0.0</td>\n",
       "      <td>0.0</td>\n",
       "      <td>384765.264968</td>\n",
       "      <td>excessive</td>\n",
       "      <td>...</td>\n",
       "      <td>0.0</td>\n",
       "      <td>504488.111841</td>\n",
       "      <td>осн</td>\n",
       "      <td>дом</td>\n",
       "      <td>NaN</td>\n",
       "      <td>589.508335</td>\n",
       "      <td>55-64</td>\n",
       "      <td>NaN</td>\n",
       "      <td>0</td>\n",
       "      <td>\"Greetings, we're Chris and Sam. Both employed...</td>\n",
       "    </tr>\n",
       "    <tr>\n",
       "      <th>...</th>\n",
       "      <td>...</td>\n",
       "      <td>...</td>\n",
       "      <td>...</td>\n",
       "      <td>...</td>\n",
       "      <td>...</td>\n",
       "      <td>...</td>\n",
       "      <td>...</td>\n",
       "      <td>...</td>\n",
       "      <td>...</td>\n",
       "      <td>...</td>\n",
       "      <td>...</td>\n",
       "      <td>...</td>\n",
       "      <td>...</td>\n",
       "      <td>...</td>\n",
       "      <td>...</td>\n",
       "      <td>...</td>\n",
       "      <td>...</td>\n",
       "      <td>...</td>\n",
       "      <td>...</td>\n",
       "      <td>...</td>\n",
       "      <td>...</td>\n",
       "    </tr>\n",
       "    <tr>\n",
       "      <th>7995</th>\n",
       "      <td>dcadfda8-ece0-47bb-9835-9b4b4dfcf384</td>\n",
       "      <td>0.0</td>\n",
       "      <td>NaN</td>\n",
       "      <td>3.0</td>\n",
       "      <td>1.0</td>\n",
       "      <td>NaN</td>\n",
       "      <td>0.0</td>\n",
       "      <td>0.0</td>\n",
       "      <td>NaN</td>\n",
       "      <td>not slight</td>\n",
       "      <td>...</td>\n",
       "      <td>0.0</td>\n",
       "      <td>744488.111841</td>\n",
       "      <td>осн</td>\n",
       "      <td>дом</td>\n",
       "      <td>2.0</td>\n",
       "      <td>NaN</td>\n",
       "      <td>35-44</td>\n",
       "      <td>NaN</td>\n",
       "      <td>0</td>\n",
       "      <td>\"Hello! I’m here to introduce myself. I have a...</td>\n",
       "    </tr>\n",
       "    <tr>\n",
       "      <th>7996</th>\n",
       "      <td>2b39e995-c13e-40d3-823a-0b12d6baf0f2</td>\n",
       "      <td>NaN</td>\n",
       "      <td>NaN</td>\n",
       "      <td>NaN</td>\n",
       "      <td>1.0</td>\n",
       "      <td>1.0</td>\n",
       "      <td>0.0</td>\n",
       "      <td>1.0</td>\n",
       "      <td>NaN</td>\n",
       "      <td>mean</td>\n",
       "      <td>...</td>\n",
       "      <td>0.0</td>\n",
       "      <td>184488.111841</td>\n",
       "      <td>осн</td>\n",
       "      <td>дом</td>\n",
       "      <td>1.0</td>\n",
       "      <td>796.508335</td>\n",
       "      <td>&gt;74</td>\n",
       "      <td>1.0</td>\n",
       "      <td>0</td>\n",
       "      <td>\"Hello! I’m excited to be here. My income is m...</td>\n",
       "    </tr>\n",
       "    <tr>\n",
       "      <th>7997</th>\n",
       "      <td>b44aad77-b20c-4a3f-bee8-acf10b3e2b6e</td>\n",
       "      <td>0.0</td>\n",
       "      <td>м</td>\n",
       "      <td>3.0</td>\n",
       "      <td>3.0</td>\n",
       "      <td>1.0</td>\n",
       "      <td>NaN</td>\n",
       "      <td>0.0</td>\n",
       "      <td>394765.264968</td>\n",
       "      <td>Whole lotta nothin'</td>\n",
       "      <td>...</td>\n",
       "      <td>0.0</td>\n",
       "      <td>NaN</td>\n",
       "      <td>осн</td>\n",
       "      <td>дом</td>\n",
       "      <td>4.0</td>\n",
       "      <td>584.508335</td>\n",
       "      <td>25-34</td>\n",
       "      <td>1.0</td>\n",
       "      <td>1</td>\n",
       "      <td>\"I'm just an ordinary guy trying to make ends ...</td>\n",
       "    </tr>\n",
       "    <tr>\n",
       "      <th>7998</th>\n",
       "      <td>98cf1188-06d2-4913-a117-3719b023a0ea</td>\n",
       "      <td>NaN</td>\n",
       "      <td>NaN</td>\n",
       "      <td>NaN</td>\n",
       "      <td>1.0</td>\n",
       "      <td>1.0</td>\n",
       "      <td>0.0</td>\n",
       "      <td>0.0</td>\n",
       "      <td>594765.264968</td>\n",
       "      <td>Total lack of presence</td>\n",
       "      <td>...</td>\n",
       "      <td>0.0</td>\n",
       "      <td>NaN</td>\n",
       "      <td>осн</td>\n",
       "      <td>дом</td>\n",
       "      <td>NaN</td>\n",
       "      <td>873.508335</td>\n",
       "      <td>35-44</td>\n",
       "      <td>1.0</td>\n",
       "      <td>0</td>\n",
       "      <td>\"Hello! We’re a couple looking to manage our f...</td>\n",
       "    </tr>\n",
       "    <tr>\n",
       "      <th>7999</th>\n",
       "      <td>67e39166-323e-4a41-8520-89dcd5eb6f69</td>\n",
       "      <td>0.0</td>\n",
       "      <td>ж</td>\n",
       "      <td>1.0</td>\n",
       "      <td>0.0</td>\n",
       "      <td>1.0</td>\n",
       "      <td>0.0</td>\n",
       "      <td>0.0</td>\n",
       "      <td>684765.264968</td>\n",
       "      <td>minuscule</td>\n",
       "      <td>...</td>\n",
       "      <td>0.0</td>\n",
       "      <td>NaN</td>\n",
       "      <td>осн</td>\n",
       "      <td>дом</td>\n",
       "      <td>2.0</td>\n",
       "      <td>NaN</td>\n",
       "      <td>35-44</td>\n",
       "      <td>1.0</td>\n",
       "      <td>0</td>\n",
       "      <td>\"I'm a successful businesswoman with a dedicat...</td>\n",
       "    </tr>\n",
       "  </tbody>\n",
       "</table>\n",
       "<p>8000 rows × 23 columns</p>\n",
       "</div>"
      ],
      "text/plain": [
       "                                        ID  limit_exceeded  sex  type  \\\n",
       "0     9e0a294e-c3cc-4aac-a489-41f479a55d6f             0.0    м   3.0   \n",
       "1     e1509425-891f-4683-9e12-dbf1493d6196             0.0  NaN   NaN   \n",
       "2     10b6a662-2ac1-45ca-8e5d-8f1296b31f4a             0.0    м   3.0   \n",
       "3     3b895644-549d-43b5-8dfe-448cacb70476             0.0  NaN   3.0   \n",
       "4     e0b641d0-4345-429c-9655-8df410af54cc             0.0  NaN   3.0   \n",
       "...                                    ...             ...  ...   ...   \n",
       "7995  dcadfda8-ece0-47bb-9835-9b4b4dfcf384             0.0  NaN   3.0   \n",
       "7996  2b39e995-c13e-40d3-823a-0b12d6baf0f2             NaN  NaN   NaN   \n",
       "7997  b44aad77-b20c-4a3f-bee8-acf10b3e2b6e             0.0    м   3.0   \n",
       "7998  98cf1188-06d2-4913-a117-3719b023a0ea             NaN  NaN   NaN   \n",
       "7999  67e39166-323e-4a41-8520-89dcd5eb6f69             0.0    ж   1.0   \n",
       "\n",
       "      purpose  creditworthiness  other_loans  buisness         amount  \\\n",
       "0         0.0               1.0          NaN       0.0  174765.264968   \n",
       "1         0.0               1.0          0.0       0.0            NaN   \n",
       "2         1.0               1.0          0.0       0.0            NaN   \n",
       "3         1.0               1.0          0.0       0.0  474765.264968   \n",
       "4         1.0               NaN          0.0       0.0  384765.264968   \n",
       "...       ...               ...          ...       ...            ...   \n",
       "7995      1.0               NaN          0.0       0.0            NaN   \n",
       "7996      1.0               1.0          0.0       1.0            NaN   \n",
       "7997      3.0               1.0          NaN       0.0  394765.264968   \n",
       "7998      1.0               1.0          0.0       0.0  594765.264968   \n",
       "7999      0.0               1.0          0.0       0.0  684765.264968   \n",
       "\n",
       "                  collection  ...  one_payment  property_price  housing_type  \\\n",
       "0                     normal  ...          0.0   244488.111841           осн   \n",
       "1                       want  ...          0.0             NaN           осн   \n",
       "2                    regular  ...          NaN   364488.111841           осн   \n",
       "3                     common  ...          0.0   894488.111841           осн   \n",
       "4                  excessive  ...          0.0   504488.111841           осн   \n",
       "...                      ...  ...          ...             ...           ...   \n",
       "7995              not slight  ...          0.0   744488.111841           осн   \n",
       "7996                    mean  ...          0.0   184488.111841           осн   \n",
       "7997     Whole lotta nothin'  ...          0.0             NaN           осн   \n",
       "7998  Total lack of presence  ...          0.0             NaN           осн   \n",
       "7999               minuscule  ...          0.0             NaN           осн   \n",
       "\n",
       "      deposite_type  credit_type credit_score age_category  direct_deposite  \\\n",
       "0               дом          2.0   709.508335        55-64              1.0   \n",
       "1               дом          1.0   722.508335        55-64              NaN   \n",
       "2               дом          1.0   785.508335        55-64              1.0   \n",
       "3               дом          NaN   594.508335        35-44              1.0   \n",
       "4               дом          NaN   589.508335        55-64              NaN   \n",
       "...             ...          ...          ...          ...              ...   \n",
       "7995            дом          2.0          NaN        35-44              NaN   \n",
       "7996            дом          1.0   796.508335          >74              1.0   \n",
       "7997            дом          4.0   584.508335        25-34              1.0   \n",
       "7998            дом          NaN   873.508335        35-44              1.0   \n",
       "7999            дом          2.0          NaN        35-44              1.0   \n",
       "\n",
       "      target                                             speech  \n",
       "0          0  \"Hey there! I’m a guy with a solid job and a m...  \n",
       "1          0  \"Hi there! We are a couple with a solid financ...  \n",
       "2          0  \"I'm a male client with a modest income. I wor...  \n",
       "3          0  \"Hello, we’re a working couple enjoying the st...  \n",
       "4          0  \"Greetings, we're Chris and Sam. Both employed...  \n",
       "...      ...                                                ...  \n",
       "7995       0  \"Hello! I’m here to introduce myself. I have a...  \n",
       "7996       0  \"Hello! I’m excited to be here. My income is m...  \n",
       "7997       1  \"I'm just an ordinary guy trying to make ends ...  \n",
       "7998       0  \"Hello! We’re a couple looking to manage our f...  \n",
       "7999       0  \"I'm a successful businesswoman with a dedicat...  \n",
       "\n",
       "[8000 rows x 23 columns]"
      ]
     },
     "execution_count": 58,
     "metadata": {},
     "output_type": "execute_result"
    }
   ],
   "source": [
    "train"
   ]
  },
  {
   "cell_type": "code",
   "execution_count": 59,
   "metadata": {},
   "outputs": [
    {
     "name": "stdout",
     "output_type": "stream",
     "text": [
      "<class 'pandas.core.frame.DataFrame'>\n",
      "RangeIndex: 8000 entries, 0 to 7999\n",
      "Data columns (total 23 columns):\n",
      " #   Column            Non-Null Count  Dtype  \n",
      "---  ------            --------------  -----  \n",
      " 0   ID                8000 non-null   object \n",
      " 1   limit_exceeded    6462 non-null   float64\n",
      " 2   sex               3778 non-null   object \n",
      " 3   type              6466 non-null   float64\n",
      " 4   purpose           6442 non-null   float64\n",
      " 5   creditworthiness  6406 non-null   float64\n",
      " 6   other_loans       6425 non-null   float64\n",
      " 7   buisness          6369 non-null   float64\n",
      " 8   amount            6414 non-null   float64\n",
      " 9   collection        8000 non-null   object \n",
      " 10  time              6376 non-null   float64\n",
      " 11  amortization      6338 non-null   float64\n",
      " 12  percentage_only   6435 non-null   float64\n",
      " 13  one_payment       6396 non-null   float64\n",
      " 14  property_price    5790 non-null   float64\n",
      " 15  housing_type      8000 non-null   object \n",
      " 16  deposite_type     8000 non-null   object \n",
      " 17  credit_type       6340 non-null   float64\n",
      " 18  credit_score      6386 non-null   float64\n",
      " 19  age_category      7992 non-null   object \n",
      " 20  direct_deposite   6420 non-null   float64\n",
      " 21  target            8000 non-null   int64  \n",
      " 22  speech            8000 non-null   object \n",
      "dtypes: float64(15), int64(1), object(7)\n",
      "memory usage: 1.4+ MB\n"
     ]
    }
   ],
   "source": [
    "train.info()"
   ]
  },
  {
   "cell_type": "code",
   "execution_count": 60,
   "metadata": {},
   "outputs": [
    {
     "data": {
      "text/html": [
       "<div>\n",
       "<style scoped>\n",
       "    .dataframe tbody tr th:only-of-type {\n",
       "        vertical-align: middle;\n",
       "    }\n",
       "\n",
       "    .dataframe tbody tr th {\n",
       "        vertical-align: top;\n",
       "    }\n",
       "\n",
       "    .dataframe thead th {\n",
       "        text-align: right;\n",
       "    }\n",
       "</style>\n",
       "<table border=\"1\" class=\"dataframe\">\n",
       "  <thead>\n",
       "    <tr style=\"text-align: right;\">\n",
       "      <th></th>\n",
       "      <th>limit_exceeded</th>\n",
       "      <th>type</th>\n",
       "      <th>purpose</th>\n",
       "      <th>creditworthiness</th>\n",
       "      <th>other_loans</th>\n",
       "      <th>buisness</th>\n",
       "      <th>amount</th>\n",
       "      <th>time</th>\n",
       "      <th>amortization</th>\n",
       "      <th>percentage_only</th>\n",
       "      <th>one_payment</th>\n",
       "      <th>property_price</th>\n",
       "      <th>credit_type</th>\n",
       "      <th>credit_score</th>\n",
       "      <th>direct_deposite</th>\n",
       "      <th>target</th>\n",
       "    </tr>\n",
       "  </thead>\n",
       "  <tbody>\n",
       "    <tr>\n",
       "      <th>count</th>\n",
       "      <td>6462.000000</td>\n",
       "      <td>6466.000000</td>\n",
       "      <td>6442.000000</td>\n",
       "      <td>6406.00000</td>\n",
       "      <td>6425.000000</td>\n",
       "      <td>6369.000000</td>\n",
       "      <td>6.414000e+03</td>\n",
       "      <td>6376.000000</td>\n",
       "      <td>6338.000000</td>\n",
       "      <td>6435.000000</td>\n",
       "      <td>6396.000000</td>\n",
       "      <td>5.790000e+03</td>\n",
       "      <td>6340.000000</td>\n",
       "      <td>6386.000000</td>\n",
       "      <td>6420.000000</td>\n",
       "      <td>8000.000000</td>\n",
       "    </tr>\n",
       "    <tr>\n",
       "      <th>mean</th>\n",
       "      <td>0.065305</td>\n",
       "      <td>2.664089</td>\n",
       "      <td>1.118131</td>\n",
       "      <td>0.96113</td>\n",
       "      <td>0.004669</td>\n",
       "      <td>0.134715</td>\n",
       "      <td>3.484416e+05</td>\n",
       "      <td>340.620736</td>\n",
       "      <td>0.101925</td>\n",
       "      <td>0.050971</td>\n",
       "      <td>0.019856</td>\n",
       "      <td>5.386556e+05</td>\n",
       "      <td>2.148580</td>\n",
       "      <td>710.309933</td>\n",
       "      <td>0.999844</td>\n",
       "      <td>0.236750</td>\n",
       "    </tr>\n",
       "    <tr>\n",
       "      <th>std</th>\n",
       "      <td>0.247082</td>\n",
       "      <td>0.653671</td>\n",
       "      <td>1.138390</td>\n",
       "      <td>0.19330</td>\n",
       "      <td>0.068178</td>\n",
       "      <td>0.341446</td>\n",
       "      <td>1.842944e+05</td>\n",
       "      <td>59.079085</td>\n",
       "      <td>0.302573</td>\n",
       "      <td>0.219956</td>\n",
       "      <td>0.139517</td>\n",
       "      <td>3.607842e+05</td>\n",
       "      <td>0.986423</td>\n",
       "      <td>115.213366</td>\n",
       "      <td>0.012481</td>\n",
       "      <td>0.425114</td>\n",
       "    </tr>\n",
       "    <tr>\n",
       "      <th>min</th>\n",
       "      <td>0.000000</td>\n",
       "      <td>1.000000</td>\n",
       "      <td>0.000000</td>\n",
       "      <td>0.00000</td>\n",
       "      <td>0.000000</td>\n",
       "      <td>0.000000</td>\n",
       "      <td>4.476526e+04</td>\n",
       "      <td>101.885949</td>\n",
       "      <td>0.000000</td>\n",
       "      <td>0.000000</td>\n",
       "      <td>0.000000</td>\n",
       "      <td>7.448811e+04</td>\n",
       "      <td>1.000000</td>\n",
       "      <td>511.508335</td>\n",
       "      <td>0.000000</td>\n",
       "      <td>0.000000</td>\n",
       "    </tr>\n",
       "    <tr>\n",
       "      <th>25%</th>\n",
       "      <td>0.000000</td>\n",
       "      <td>3.000000</td>\n",
       "      <td>0.000000</td>\n",
       "      <td>1.00000</td>\n",
       "      <td>0.000000</td>\n",
       "      <td>0.000000</td>\n",
       "      <td>2.147653e+05</td>\n",
       "      <td>365.885949</td>\n",
       "      <td>0.000000</td>\n",
       "      <td>0.000000</td>\n",
       "      <td>0.000000</td>\n",
       "      <td>3.144881e+05</td>\n",
       "      <td>1.000000</td>\n",
       "      <td>611.508335</td>\n",
       "      <td>1.000000</td>\n",
       "      <td>0.000000</td>\n",
       "    </tr>\n",
       "    <tr>\n",
       "      <th>50%</th>\n",
       "      <td>0.000000</td>\n",
       "      <td>3.000000</td>\n",
       "      <td>1.000000</td>\n",
       "      <td>1.00000</td>\n",
       "      <td>0.000000</td>\n",
       "      <td>0.000000</td>\n",
       "      <td>3.147653e+05</td>\n",
       "      <td>365.885949</td>\n",
       "      <td>0.000000</td>\n",
       "      <td>0.000000</td>\n",
       "      <td>0.000000</td>\n",
       "      <td>4.544881e+05</td>\n",
       "      <td>2.000000</td>\n",
       "      <td>708.508335</td>\n",
       "      <td>1.000000</td>\n",
       "      <td>0.000000</td>\n",
       "    </tr>\n",
       "    <tr>\n",
       "      <th>75%</th>\n",
       "      <td>0.000000</td>\n",
       "      <td>3.000000</td>\n",
       "      <td>2.000000</td>\n",
       "      <td>1.00000</td>\n",
       "      <td>0.000000</td>\n",
       "      <td>0.000000</td>\n",
       "      <td>4.522653e+05</td>\n",
       "      <td>365.885949</td>\n",
       "      <td>0.000000</td>\n",
       "      <td>0.000000</td>\n",
       "      <td>0.000000</td>\n",
       "      <td>6.644881e+05</td>\n",
       "      <td>3.000000</td>\n",
       "      <td>810.508335</td>\n",
       "      <td>1.000000</td>\n",
       "      <td>0.000000</td>\n",
       "    </tr>\n",
       "    <tr>\n",
       "      <th>max</th>\n",
       "      <td>1.000000</td>\n",
       "      <td>3.000000</td>\n",
       "      <td>3.000000</td>\n",
       "      <td>1.00000</td>\n",
       "      <td>1.000000</td>\n",
       "      <td>1.000000</td>\n",
       "      <td>3.024765e+06</td>\n",
       "      <td>365.885949</td>\n",
       "      <td>1.000000</td>\n",
       "      <td>1.000000</td>\n",
       "      <td>1.000000</td>\n",
       "      <td>4.914488e+06</td>\n",
       "      <td>4.000000</td>\n",
       "      <td>911.508335</td>\n",
       "      <td>1.000000</td>\n",
       "      <td>1.000000</td>\n",
       "    </tr>\n",
       "  </tbody>\n",
       "</table>\n",
       "</div>"
      ],
      "text/plain": [
       "       limit_exceeded         type      purpose  creditworthiness  \\\n",
       "count     6462.000000  6466.000000  6442.000000        6406.00000   \n",
       "mean         0.065305     2.664089     1.118131           0.96113   \n",
       "std          0.247082     0.653671     1.138390           0.19330   \n",
       "min          0.000000     1.000000     0.000000           0.00000   \n",
       "25%          0.000000     3.000000     0.000000           1.00000   \n",
       "50%          0.000000     3.000000     1.000000           1.00000   \n",
       "75%          0.000000     3.000000     2.000000           1.00000   \n",
       "max          1.000000     3.000000     3.000000           1.00000   \n",
       "\n",
       "       other_loans     buisness        amount         time  amortization  \\\n",
       "count  6425.000000  6369.000000  6.414000e+03  6376.000000   6338.000000   \n",
       "mean      0.004669     0.134715  3.484416e+05   340.620736      0.101925   \n",
       "std       0.068178     0.341446  1.842944e+05    59.079085      0.302573   \n",
       "min       0.000000     0.000000  4.476526e+04   101.885949      0.000000   \n",
       "25%       0.000000     0.000000  2.147653e+05   365.885949      0.000000   \n",
       "50%       0.000000     0.000000  3.147653e+05   365.885949      0.000000   \n",
       "75%       0.000000     0.000000  4.522653e+05   365.885949      0.000000   \n",
       "max       1.000000     1.000000  3.024765e+06   365.885949      1.000000   \n",
       "\n",
       "       percentage_only  one_payment  property_price  credit_type  \\\n",
       "count      6435.000000  6396.000000    5.790000e+03  6340.000000   \n",
       "mean          0.050971     0.019856    5.386556e+05     2.148580   \n",
       "std           0.219956     0.139517    3.607842e+05     0.986423   \n",
       "min           0.000000     0.000000    7.448811e+04     1.000000   \n",
       "25%           0.000000     0.000000    3.144881e+05     1.000000   \n",
       "50%           0.000000     0.000000    4.544881e+05     2.000000   \n",
       "75%           0.000000     0.000000    6.644881e+05     3.000000   \n",
       "max           1.000000     1.000000    4.914488e+06     4.000000   \n",
       "\n",
       "       credit_score  direct_deposite       target  \n",
       "count   6386.000000      6420.000000  8000.000000  \n",
       "mean     710.309933         0.999844     0.236750  \n",
       "std      115.213366         0.012481     0.425114  \n",
       "min      511.508335         0.000000     0.000000  \n",
       "25%      611.508335         1.000000     0.000000  \n",
       "50%      708.508335         1.000000     0.000000  \n",
       "75%      810.508335         1.000000     0.000000  \n",
       "max      911.508335         1.000000     1.000000  "
      ]
     },
     "execution_count": 60,
     "metadata": {},
     "output_type": "execute_result"
    }
   ],
   "source": [
    "train.describe()"
   ]
  },
  {
   "cell_type": "markdown",
   "metadata": {},
   "source": [
    "3. Приведение series к нужным типам"
   ]
  },
  {
   "cell_type": "code",
   "execution_count": 62,
   "metadata": {},
   "outputs": [
    {
     "data": {
      "text/plain": [
       "time\n",
       "365.885949    5229\n",
       "185.885949     575\n",
       "245.885949     258\n",
       "305.885949     116\n",
       "329.885949      97\n",
       "125.885949      17\n",
       "149.885949      11\n",
       "101.885949      11\n",
       "353.885949      10\n",
       "137.885949       9\n",
       "317.885949       8\n",
       "341.885949       8\n",
       "173.885949       5\n",
       "161.885949       4\n",
       "269.885949       3\n",
       "293.885949       2\n",
       "233.885949       2\n",
       "221.885949       2\n",
       "257.885949       2\n",
       "281.885949       2\n",
       "209.885949       2\n",
       "197.885949       1\n",
       "170.885949       1\n",
       "113.885949       1\n",
       "Name: count, dtype: int64"
      ]
     },
     "execution_count": 62,
     "metadata": {},
     "output_type": "execute_result"
    }
   ],
   "source": [
    "train['time'].value_counts()"
   ]
  },
  {
   "cell_type": "code",
   "execution_count": 13,
   "metadata": {},
   "outputs": [],
   "source": [
    "def transform_time(series, n = 5):\n",
    "    return fct_lump(series, n = n).astype(str).str.replace(r'\\..*', '', regex=True)"
   ]
  },
  {
   "cell_type": "code",
   "execution_count": 14,
   "metadata": {},
   "outputs": [],
   "source": [
    "loan_periods = {\n",
    "    \"365\": \"year\",   \n",
    "    \"Other\": \"Other\",         \n",
    "    \"185\": \"half\",  \n",
    "    \"245\": \"nine_months\",  \n",
    "    \"305\": \"ten_months\",    \n",
    "    \"329\": \"eleven_months\",   \n",
    "}"
   ]
  },
  {
   "cell_type": "code",
   "execution_count": 15,
   "metadata": {},
   "outputs": [
    {
     "data": {
      "text/plain": [
       "time\n",
       "year             5229\n",
       "Other            1725\n",
       "half              575\n",
       "nine_months       258\n",
       "ten_months        116\n",
       "eleven_months      97\n",
       "Name: count, dtype: int64"
      ]
     },
     "execution_count": 15,
     "metadata": {},
     "output_type": "execute_result"
    }
   ],
   "source": [
    "transform_time(train['time']).map(loan_periods).value_counts()"
   ]
  },
  {
   "cell_type": "code",
   "execution_count": 16,
   "metadata": {},
   "outputs": [
    {
     "data": {
      "text/plain": [
       "time\n",
       "year             1301\n",
       "Other             417\n",
       "half              159\n",
       "nine_months        66\n",
       "ten_months         31\n",
       "eleven_months      26\n",
       "Name: count, dtype: int64"
      ]
     },
     "execution_count": 16,
     "metadata": {},
     "output_type": "execute_result"
    }
   ],
   "source": [
    "transform_time(test['time']).map(loan_periods).value_counts()"
   ]
  },
  {
   "cell_type": "code",
   "execution_count": 17,
   "metadata": {},
   "outputs": [],
   "source": [
    "train['time'] = transform_time(train['time']).map(loan_periods)\n",
    "test['time'] = transform_time(test['time']).map(loan_periods)"
   ]
  },
  {
   "cell_type": "code",
   "execution_count": 63,
   "metadata": {},
   "outputs": [
    {
     "data": {
      "text/plain": [
       "direct_deposite\n",
       "1.0    1592\n",
       "0.0       2\n",
       "Name: count, dtype: int64"
      ]
     },
     "execution_count": 63,
     "metadata": {},
     "output_type": "execute_result"
    }
   ],
   "source": [
    "test['direct_deposite'].value_counts()"
   ]
  },
  {
   "cell_type": "code",
   "execution_count": 19,
   "metadata": {},
   "outputs": [],
   "source": [
    "train['deposite_type'] = (train['deposite_type'] == 'дом').astype(int)\n",
    "test['deposite_type'] = (test['deposite_type'] == 'дом').astype(int)"
   ]
  },
  {
   "cell_type": "code",
   "execution_count": 20,
   "metadata": {},
   "outputs": [],
   "source": [
    "train['direct_deposite'] = (train['direct_deposite'] == 1.0).astype(int)\n",
    "test['direct_deposite'] = (test['direct_deposite'] == 1.0).astype(int)"
   ]
  },
  {
   "cell_type": "code",
   "execution_count": 21,
   "metadata": {},
   "outputs": [],
   "source": [
    "train['amount'] = log10_positive(train['amount'])\n",
    "test['amount'] = log10_positive(test['amount'])\n",
    "\n",
    "train['property_price'] = log10_positive(train['property_price'])\n",
    "test['property_price'] = log10_positive(test['property_price'])"
   ]
  },
  {
   "cell_type": "code",
   "execution_count": null,
   "metadata": {},
   "outputs": [],
   "source": [
    "train.dtypes"
   ]
  },
  {
   "cell_type": "code",
   "execution_count": 23,
   "metadata": {},
   "outputs": [],
   "source": [
    "memory_optimization.auto_optimize_dtypes(train, inplace=True)\n",
    "memory_optimization.auto_optimize_dtypes(test, inplace=True)\n",
    "train['target'] = train['target'].astype(int)"
   ]
  },
  {
   "cell_type": "code",
   "execution_count": 24,
   "metadata": {},
   "outputs": [
    {
     "data": {
      "text/plain": [
       "ID                    object\n",
       "limit_exceeded      category\n",
       "sex                 category\n",
       "type                category\n",
       "purpose             category\n",
       "creditworthiness    category\n",
       "other_loans         category\n",
       "buisness            category\n",
       "amount               float32\n",
       "collection            object\n",
       "time                category\n",
       "amortization        category\n",
       "percentage_only     category\n",
       "one_payment         category\n",
       "property_price       float32\n",
       "housing_type        category\n",
       "deposite_type       category\n",
       "credit_type         category\n",
       "credit_score         float32\n",
       "age_category        category\n",
       "direct_deposite     category\n",
       "target                 int32\n",
       "speech                object\n",
       "dtype: object"
      ]
     },
     "execution_count": 24,
     "metadata": {},
     "output_type": "execute_result"
    }
   ],
   "source": [
    "train.dtypes"
   ]
  },
  {
   "cell_type": "code",
   "execution_count": 25,
   "metadata": {},
   "outputs": [],
   "source": [
    "#filling_missing_data.filling_missing_data_train(train, inplace=True)\n",
    "#filling_missing_data.filling_missing_data_test(test, inplace=True)"
   ]
  },
  {
   "cell_type": "code",
   "execution_count": 26,
   "metadata": {},
   "outputs": [
    {
     "data": {
      "text/plain": [
       "['modest', 'normal', 'commonplace', 'average', 'adequate']"
      ]
     },
     "execution_count": 26,
     "metadata": {},
     "output_type": "execute_result"
    }
   ],
   "source": [
    "list(train['collection'].value_counts().to_dict().keys())[10:15]"
   ]
  },
  {
   "cell_type": "code",
   "execution_count": 27,
   "metadata": {},
   "outputs": [
    {
     "data": {
      "text/plain": [
       "tensor([[1.0000, 0.3568, 0.4157, 0.3051, 0.4075],\n",
       "        [0.3568, 1.0000, 0.5485, 0.5488, 0.3701],\n",
       "        [0.4157, 0.5485, 1.0000, 0.4773, 0.3640],\n",
       "        [0.3051, 0.5488, 0.4773, 1.0000, 0.5623],\n",
       "        [0.4075, 0.3701, 0.3640, 0.5623, 1.0000]])"
      ]
     },
     "execution_count": 27,
     "metadata": {},
     "output_type": "execute_result"
    }
   ],
   "source": [
    "embeddings = model.encode(list(train['collection'].value_counts().to_dict().keys())[10:15])\n",
    "similarities = model.similarity(embeddings, embeddings)\n",
    "similarities"
   ]
  },
  {
   "cell_type": "code",
   "execution_count": 28,
   "metadata": {},
   "outputs": [],
   "source": [
    "# collection_embed_train = get_text_embeddings(model, train['collection'], cache_ = True)\n",
    "# speech_embed_train = get_text_embeddings(model, train['speech'])\n",
    "\n",
    "# collection_embed_test = get_text_embeddings(model, test['collection'], cache_ = True)\n",
    "# speech_embed_test = get_text_embeddings(model, test['speech'])\n",
    "\n",
    "# saving_data.write_to_pickle_lzma(collection_embed_train, \"collection_embed_train.lzma\")\n",
    "# saving_data.write_to_pickle_lzma(speech_embed_train, \"speech_embed_train.lzma\")\n",
    "\n",
    "# saving_data.write_to_pickle_lzma(collection_embed_test, \"collection_embed_test.lzma\")\n",
    "# saving_data.write_to_pickle_lzma(speech_embed_test, \"speech_embed_test.lzma\")"
   ]
  },
  {
   "cell_type": "code",
   "execution_count": 29,
   "metadata": {},
   "outputs": [],
   "source": [
    "collection_embed_train = saving_data.read_from_pickle_lzma(\"collection_embed_train.lzma\")\n",
    "speech_embed_train = saving_data.read_from_pickle_lzma(\"speech_embed_train.lzma\")"
   ]
  },
  {
   "cell_type": "code",
   "execution_count": 30,
   "metadata": {},
   "outputs": [],
   "source": [
    "age_cats = {\n",
    "    '45-54': '45-54',\n",
    "    '35-44': '35-44',\n",
    "    '55-64': '55-64',\n",
    "    \">74\": \"65+\", \n",
    "    \"65-74\": \"65+\", \n",
    "    \"<25\": \"18-34\", \n",
    "    \"25-34\": \"18-34\", \n",
    "    \"-1\": 'missing'\n",
    "}"
   ]
  },
  {
   "cell_type": "code",
   "execution_count": 31,
   "metadata": {},
   "outputs": [
    {
     "data": {
      "text/plain": [
       "age_category\n",
       "45-54    1878\n",
       "35-44    1777\n",
       "55-64    1696\n",
       "65-74    1137\n",
       "25-34    1046\n",
       ">74       376\n",
       "<25        82\n",
       "-1          8\n",
       "Name: count, dtype: int64"
      ]
     },
     "execution_count": 31,
     "metadata": {},
     "output_type": "execute_result"
    }
   ],
   "source": [
    "train['age_category'].value_counts()"
   ]
  },
  {
   "cell_type": "code",
   "execution_count": 32,
   "metadata": {},
   "outputs": [
    {
     "data": {
      "text/plain": [
       "age_category\n",
       "45-54    1878\n",
       "35-44    1777\n",
       "55-64    1696\n",
       "65+      1513\n",
       "18-34    1128\n",
       "Name: count, dtype: int64"
      ]
     },
     "execution_count": 32,
     "metadata": {},
     "output_type": "execute_result"
    }
   ],
   "source": [
    "train['age_category'].map(age_cats).value_counts()"
   ]
  },
  {
   "cell_type": "code",
   "execution_count": 33,
   "metadata": {},
   "outputs": [],
   "source": [
    "X = train.drop(['ID', 'target', \"collection\", \"speech\"], axis=1)\n",
    "test.drop('ID', axis=1, inplace=True)\n",
    "y = train['target']"
   ]
  },
  {
   "cell_type": "code",
   "execution_count": 34,
   "metadata": {},
   "outputs": [
    {
     "data": {
      "text/plain": [
       "target\n",
       "0    6106\n",
       "1    1894\n",
       "Name: count, dtype: int64"
      ]
     },
     "execution_count": 34,
     "metadata": {},
     "output_type": "execute_result"
    }
   ],
   "source": [
    "y.value_counts()"
   ]
  },
  {
   "cell_type": "code",
   "execution_count": 47,
   "metadata": {},
   "outputs": [],
   "source": [
    "def objective_cb(trial):\n",
    "    \n",
    "    params = {\n",
    "        \"iterations\": 1000,\n",
    "        \"learning_rate\": trial.suggest_float(\"learning_rate\", 1e-3, 0.1, log=True),\n",
    "        \"depth\": trial.suggest_int(\"depth\", 1, 10),\n",
    "        \"subsample\": trial.suggest_float(\"subsample\", 0.05, 1.0),\n",
    "        \"colsample_bylevel\": trial.suggest_float(\"colsample_bylevel\", 0.05, 1.0),\n",
    "        \"min_data_in_leaf\": trial.suggest_int(\"min_data_in_leaf\", 1, 100),\n",
    "    }\n",
    "\n",
    "    use_collection_embed = trial.suggest_categorical(\"use_collection_embed\", [\"yes\", \"no\"])\n",
    "    use_speech_embed = trial.suggest_categorical(\"use_speech_embed\", [\"yes\", \"no\"])\n",
    "    trim_age_categories = trial.suggest_categorical(\"trim_age_categories\", [\"yes\", \"no\"])\n",
    "\n",
    "    dim_pca =  trial.suggest_int(\"dim_pca\", low=5, high=35, step=5, log=False)\n",
    "\n",
    "    X_trial = X.copy()\n",
    "\n",
    "    if trim_age_categories == \"yes\":\n",
    "        X_trial['age_category'] = X_trial['age_category'].map(age_cats).astype(str)\n",
    "\n",
    "    X_trial = pd.get_dummies(X_trial, drop_first=True)\n",
    "    X_trial.columns = X_trial.columns.astype(str).str.replace(r'[^\\w]', '_', regex=True)\n",
    "\n",
    "    if use_collection_embed == \"yes\":\n",
    "        collection_pc = perform_pca(collection_embed_train, dim_pca, \"collection\")\n",
    "        X_trial = pd.concat([X_trial, collection_pc], axis=1)\n",
    "\n",
    "    if use_speech_embed == \"yes\":\n",
    "        speech_pc = perform_pca(speech_embed_train, dim_pca, \"speech\")\n",
    "        X_trial = pd.concat([X_trial, speech_pc], axis=1)\n",
    "\n",
    "    kf = KFold(n_splits=5, shuffle=True)\n",
    "    total_fbeta = 0\n",
    "    total_samples = 0\n",
    "\n",
    "    for train_index, val_index in tqdm(kf.split(X_trial)):\n",
    "        X_train, X_val = X_trial.iloc[train_index], X_trial.iloc[val_index]\n",
    "        y_train, y_val = y.iloc[train_index], y.iloc[val_index]\n",
    "\n",
    "        rus = RandomUnderSampler(random_state=None)\n",
    "        X_resampled, y_resampled = rus.fit_resample(X_train, y_train)\n",
    "\n",
    "        cb = CatBoostClassifier(**params, silent=True)\n",
    "        cb.fit(X_resampled, y_resampled)\n",
    "\n",
    "        y_pred = cb.predict(X_val)\n",
    "\n",
    "        y_pred_binary = np.where(y_pred > 0.5, 1, 0)\n",
    "\n",
    "        f_beta = fbeta_score(y_val, y_pred_binary, beta=3)\n",
    "        total_fbeta += f_beta\n",
    "\n",
    "    average_fbeta = total_fbeta / 5 \n",
    "\n",
    "    return average_fbeta\n"
   ]
  },
  {
   "cell_type": "code",
   "execution_count": 48,
   "metadata": {},
   "outputs": [
    {
     "name": "stderr",
     "output_type": "stream",
     "text": [
      "[I 2025-01-09 16:26:14,350] A new study created in memory with name: no-name-a110f513-6eea-47dc-b50e-5dc7312c5d13\n"
     ]
    },
    {
     "data": {
      "application/vnd.jupyter.widget-view+json": {
       "model_id": "f8759ef5298f4ec19874cddb36123a86",
       "version_major": 2,
       "version_minor": 0
      },
      "text/plain": [
       "  0%|          | 0/100 [00:00<?, ?it/s]"
      ]
     },
     "metadata": {},
     "output_type": "display_data"
    },
    {
     "name": "stderr",
     "output_type": "stream",
     "text": [
      "5it [00:26,  5.30s/it]\n"
     ]
    },
    {
     "name": "stdout",
     "output_type": "stream",
     "text": [
      "[I 2025-01-09 16:26:41,416] Trial 0 finished with value: 0.9379374571165744 and parameters: {'learning_rate': 0.020646687589027046, 'depth': 2, 'subsample': 0.8297059858129878, 'colsample_bylevel': 0.5477244791895105, 'min_data_in_leaf': 64, 'use_collection_embed': 'no', 'use_speech_embed': 'yes', 'trim_age_categories': 'no', 'dim_pca': 25}. Best is trial 0 with value: 0.9379374571165744.\n"
     ]
    },
    {
     "name": "stderr",
     "output_type": "stream",
     "text": [
      "5it [00:54, 10.81s/it]\n"
     ]
    },
    {
     "name": "stdout",
     "output_type": "stream",
     "text": [
      "[I 2025-01-09 16:27:35,492] Trial 1 finished with value: 0.5963766988170387 and parameters: {'learning_rate': 0.01682561519307549, 'depth': 7, 'subsample': 0.5153666592053858, 'colsample_bylevel': 0.9304762096506769, 'min_data_in_leaf': 67, 'use_collection_embed': 'no', 'use_speech_embed': 'no', 'trim_age_categories': 'yes', 'dim_pca': 5}. Best is trial 0 with value: 0.9379374571165744.\n"
     ]
    },
    {
     "name": "stderr",
     "output_type": "stream",
     "text": [
      "5it [01:10, 14.01s/it]\n"
     ]
    },
    {
     "name": "stdout",
     "output_type": "stream",
     "text": [
      "[I 2025-01-09 16:28:46,110] Trial 2 finished with value: 0.9361767516211842 and parameters: {'learning_rate': 0.006476204749168591, 'depth': 6, 'subsample': 0.32193203697928985, 'colsample_bylevel': 0.20129274784840007, 'min_data_in_leaf': 10, 'use_collection_embed': 'no', 'use_speech_embed': 'yes', 'trim_age_categories': 'yes', 'dim_pca': 35}. Best is trial 0 with value: 0.9379374571165744.\n"
     ]
    },
    {
     "name": "stderr",
     "output_type": "stream",
     "text": [
      "5it [00:29,  5.86s/it]\n"
     ]
    },
    {
     "name": "stdout",
     "output_type": "stream",
     "text": [
      "[I 2025-01-09 16:29:16,126] Trial 3 finished with value: 0.9342721472725077 and parameters: {'learning_rate': 0.01136297203743071, 'depth': 3, 'subsample': 0.32683372000628036, 'colsample_bylevel': 0.21923619994852256, 'min_data_in_leaf': 40, 'use_collection_embed': 'no', 'use_speech_embed': 'yes', 'trim_age_categories': 'no', 'dim_pca': 35}. Best is trial 0 with value: 0.9379374571165744.\n"
     ]
    },
    {
     "name": "stderr",
     "output_type": "stream",
     "text": [
      "2it [02:08, 64.09s/it]\n"
     ]
    },
    {
     "name": "stdout",
     "output_type": "stream",
     "text": [
      "[W 2025-01-09 16:31:25,381] Trial 4 failed with parameters: {'learning_rate': 0.0037648146542459786, 'depth': 6, 'subsample': 0.6714897681580109, 'colsample_bylevel': 0.9794528376399229, 'min_data_in_leaf': 85, 'use_collection_embed': 'yes', 'use_speech_embed': 'yes', 'trim_age_categories': 'no', 'dim_pca': 30} because of the following error: KeyboardInterrupt('').\n",
      "Traceback (most recent call last):\n",
      "  File \"c:\\Users\\Imani\\anaconda3\\Lib\\site-packages\\optuna\\study\\_optimize.py\", line 197, in _run_trial\n",
      "    value_or_values = func(trial)\n",
      "                      ^^^^^^^^^^^\n",
      "  File \"C:\\Users\\Imani\\AppData\\Local\\Temp\\ipykernel_1572\\598441006.py\", line 45, in objective_cb\n",
      "    cb.fit(X_resampled, y_resampled)\n",
      "  File \"c:\\Users\\Imani\\anaconda3\\Lib\\site-packages\\catboost\\core.py\", line 5245, in fit\n",
      "    self._fit(X, y, cat_features, text_features, embedding_features, None, graph, sample_weight, None, None, None, None, baseline, use_best_model,\n",
      "  File \"c:\\Users\\Imani\\anaconda3\\Lib\\site-packages\\catboost\\core.py\", line 2410, in _fit\n",
      "    self._train(\n",
      "  File \"c:\\Users\\Imani\\anaconda3\\Lib\\site-packages\\catboost\\core.py\", line 1790, in _train\n",
      "    self._object._train(train_pool, test_pool, params, allow_clear_pool, init_model._object if init_model else None)\n",
      "  File \"_catboost.pyx\", line 5017, in _catboost._CatBoost._train\n",
      "  File \"_catboost.pyx\", line 5066, in _catboost._CatBoost._train\n",
      "KeyboardInterrupt\n",
      "[W 2025-01-09 16:31:25,398] Trial 4 failed with value None.\n"
     ]
    },
    {
     "ename": "KeyboardInterrupt",
     "evalue": "",
     "output_type": "error",
     "traceback": [
      "\u001b[1;31m---------------------------------------------------------------------------\u001b[0m",
      "\u001b[1;31mKeyboardInterrupt\u001b[0m                         Traceback (most recent call last)",
      "Cell \u001b[1;32mIn[48], line 2\u001b[0m\n\u001b[0;32m      1\u001b[0m study \u001b[38;5;241m=\u001b[39m optuna\u001b[38;5;241m.\u001b[39mcreate_study(direction\u001b[38;5;241m=\u001b[39m\u001b[38;5;124m'\u001b[39m\u001b[38;5;124mmaximize\u001b[39m\u001b[38;5;124m'\u001b[39m)\n\u001b[1;32m----> 2\u001b[0m study\u001b[38;5;241m.\u001b[39moptimize(objective_cb, n_trials \u001b[38;5;241m=\u001b[39m \u001b[38;5;241m100\u001b[39m, n_jobs \u001b[38;5;241m=\u001b[39m \u001b[38;5;241m1\u001b[39m, show_progress_bar \u001b[38;5;241m=\u001b[39m \u001b[38;5;28;01mTrue\u001b[39;00m)\n",
      "File \u001b[1;32mc:\\Users\\Imani\\anaconda3\\Lib\\site-packages\\optuna\\study\\study.py:475\u001b[0m, in \u001b[0;36mStudy.optimize\u001b[1;34m(self, func, n_trials, timeout, n_jobs, catch, callbacks, gc_after_trial, show_progress_bar)\u001b[0m\n\u001b[0;32m    373\u001b[0m \u001b[38;5;28;01mdef\u001b[39;00m \u001b[38;5;21moptimize\u001b[39m(\n\u001b[0;32m    374\u001b[0m     \u001b[38;5;28mself\u001b[39m,\n\u001b[0;32m    375\u001b[0m     func: ObjectiveFuncType,\n\u001b[1;32m   (...)\u001b[0m\n\u001b[0;32m    382\u001b[0m     show_progress_bar: \u001b[38;5;28mbool\u001b[39m \u001b[38;5;241m=\u001b[39m \u001b[38;5;28;01mFalse\u001b[39;00m,\n\u001b[0;32m    383\u001b[0m ) \u001b[38;5;241m-\u001b[39m\u001b[38;5;241m>\u001b[39m \u001b[38;5;28;01mNone\u001b[39;00m:\n\u001b[0;32m    384\u001b[0m \u001b[38;5;250m    \u001b[39m\u001b[38;5;124;03m\"\"\"Optimize an objective function.\u001b[39;00m\n\u001b[0;32m    385\u001b[0m \n\u001b[0;32m    386\u001b[0m \u001b[38;5;124;03m    Optimization is done by choosing a suitable set of hyperparameter values from a given\u001b[39;00m\n\u001b[1;32m   (...)\u001b[0m\n\u001b[0;32m    473\u001b[0m \u001b[38;5;124;03m            If nested invocation of this method occurs.\u001b[39;00m\n\u001b[0;32m    474\u001b[0m \u001b[38;5;124;03m    \"\"\"\u001b[39;00m\n\u001b[1;32m--> 475\u001b[0m     _optimize(\n\u001b[0;32m    476\u001b[0m         study\u001b[38;5;241m=\u001b[39m\u001b[38;5;28mself\u001b[39m,\n\u001b[0;32m    477\u001b[0m         func\u001b[38;5;241m=\u001b[39mfunc,\n\u001b[0;32m    478\u001b[0m         n_trials\u001b[38;5;241m=\u001b[39mn_trials,\n\u001b[0;32m    479\u001b[0m         timeout\u001b[38;5;241m=\u001b[39mtimeout,\n\u001b[0;32m    480\u001b[0m         n_jobs\u001b[38;5;241m=\u001b[39mn_jobs,\n\u001b[0;32m    481\u001b[0m         catch\u001b[38;5;241m=\u001b[39m\u001b[38;5;28mtuple\u001b[39m(catch) \u001b[38;5;28;01mif\u001b[39;00m \u001b[38;5;28misinstance\u001b[39m(catch, Iterable) \u001b[38;5;28;01melse\u001b[39;00m (catch,),\n\u001b[0;32m    482\u001b[0m         callbacks\u001b[38;5;241m=\u001b[39mcallbacks,\n\u001b[0;32m    483\u001b[0m         gc_after_trial\u001b[38;5;241m=\u001b[39mgc_after_trial,\n\u001b[0;32m    484\u001b[0m         show_progress_bar\u001b[38;5;241m=\u001b[39mshow_progress_bar,\n\u001b[0;32m    485\u001b[0m     )\n",
      "File \u001b[1;32mc:\\Users\\Imani\\anaconda3\\Lib\\site-packages\\optuna\\study\\_optimize.py:63\u001b[0m, in \u001b[0;36m_optimize\u001b[1;34m(study, func, n_trials, timeout, n_jobs, catch, callbacks, gc_after_trial, show_progress_bar)\u001b[0m\n\u001b[0;32m     61\u001b[0m \u001b[38;5;28;01mtry\u001b[39;00m:\n\u001b[0;32m     62\u001b[0m     \u001b[38;5;28;01mif\u001b[39;00m n_jobs \u001b[38;5;241m==\u001b[39m \u001b[38;5;241m1\u001b[39m:\n\u001b[1;32m---> 63\u001b[0m         _optimize_sequential(\n\u001b[0;32m     64\u001b[0m             study,\n\u001b[0;32m     65\u001b[0m             func,\n\u001b[0;32m     66\u001b[0m             n_trials,\n\u001b[0;32m     67\u001b[0m             timeout,\n\u001b[0;32m     68\u001b[0m             catch,\n\u001b[0;32m     69\u001b[0m             callbacks,\n\u001b[0;32m     70\u001b[0m             gc_after_trial,\n\u001b[0;32m     71\u001b[0m             reseed_sampler_rng\u001b[38;5;241m=\u001b[39m\u001b[38;5;28;01mFalse\u001b[39;00m,\n\u001b[0;32m     72\u001b[0m             time_start\u001b[38;5;241m=\u001b[39m\u001b[38;5;28;01mNone\u001b[39;00m,\n\u001b[0;32m     73\u001b[0m             progress_bar\u001b[38;5;241m=\u001b[39mprogress_bar,\n\u001b[0;32m     74\u001b[0m         )\n\u001b[0;32m     75\u001b[0m     \u001b[38;5;28;01melse\u001b[39;00m:\n\u001b[0;32m     76\u001b[0m         \u001b[38;5;28;01mif\u001b[39;00m n_jobs \u001b[38;5;241m==\u001b[39m \u001b[38;5;241m-\u001b[39m\u001b[38;5;241m1\u001b[39m:\n",
      "File \u001b[1;32mc:\\Users\\Imani\\anaconda3\\Lib\\site-packages\\optuna\\study\\_optimize.py:160\u001b[0m, in \u001b[0;36m_optimize_sequential\u001b[1;34m(study, func, n_trials, timeout, catch, callbacks, gc_after_trial, reseed_sampler_rng, time_start, progress_bar)\u001b[0m\n\u001b[0;32m    157\u001b[0m         \u001b[38;5;28;01mbreak\u001b[39;00m\n\u001b[0;32m    159\u001b[0m \u001b[38;5;28;01mtry\u001b[39;00m:\n\u001b[1;32m--> 160\u001b[0m     frozen_trial \u001b[38;5;241m=\u001b[39m _run_trial(study, func, catch)\n\u001b[0;32m    161\u001b[0m \u001b[38;5;28;01mfinally\u001b[39;00m:\n\u001b[0;32m    162\u001b[0m     \u001b[38;5;66;03m# The following line mitigates memory problems that can be occurred in some\u001b[39;00m\n\u001b[0;32m    163\u001b[0m     \u001b[38;5;66;03m# environments (e.g., services that use computing containers such as GitHub Actions).\u001b[39;00m\n\u001b[0;32m    164\u001b[0m     \u001b[38;5;66;03m# Please refer to the following PR for further details:\u001b[39;00m\n\u001b[0;32m    165\u001b[0m     \u001b[38;5;66;03m# https://github.com/optuna/optuna/pull/325.\u001b[39;00m\n\u001b[0;32m    166\u001b[0m     \u001b[38;5;28;01mif\u001b[39;00m gc_after_trial:\n",
      "File \u001b[1;32mc:\\Users\\Imani\\anaconda3\\Lib\\site-packages\\optuna\\study\\_optimize.py:248\u001b[0m, in \u001b[0;36m_run_trial\u001b[1;34m(study, func, catch)\u001b[0m\n\u001b[0;32m    241\u001b[0m         \u001b[38;5;28;01massert\u001b[39;00m \u001b[38;5;28;01mFalse\u001b[39;00m, \u001b[38;5;124m\"\u001b[39m\u001b[38;5;124mShould not reach.\u001b[39m\u001b[38;5;124m\"\u001b[39m\n\u001b[0;32m    243\u001b[0m \u001b[38;5;28;01mif\u001b[39;00m (\n\u001b[0;32m    244\u001b[0m     frozen_trial\u001b[38;5;241m.\u001b[39mstate \u001b[38;5;241m==\u001b[39m TrialState\u001b[38;5;241m.\u001b[39mFAIL\n\u001b[0;32m    245\u001b[0m     \u001b[38;5;129;01mand\u001b[39;00m func_err \u001b[38;5;129;01mis\u001b[39;00m \u001b[38;5;129;01mnot\u001b[39;00m \u001b[38;5;28;01mNone\u001b[39;00m\n\u001b[0;32m    246\u001b[0m     \u001b[38;5;129;01mand\u001b[39;00m \u001b[38;5;129;01mnot\u001b[39;00m \u001b[38;5;28misinstance\u001b[39m(func_err, catch)\n\u001b[0;32m    247\u001b[0m ):\n\u001b[1;32m--> 248\u001b[0m     \u001b[38;5;28;01mraise\u001b[39;00m func_err\n\u001b[0;32m    249\u001b[0m \u001b[38;5;28;01mreturn\u001b[39;00m frozen_trial\n",
      "File \u001b[1;32mc:\\Users\\Imani\\anaconda3\\Lib\\site-packages\\optuna\\study\\_optimize.py:197\u001b[0m, in \u001b[0;36m_run_trial\u001b[1;34m(study, func, catch)\u001b[0m\n\u001b[0;32m    195\u001b[0m \u001b[38;5;28;01mwith\u001b[39;00m get_heartbeat_thread(trial\u001b[38;5;241m.\u001b[39m_trial_id, study\u001b[38;5;241m.\u001b[39m_storage):\n\u001b[0;32m    196\u001b[0m     \u001b[38;5;28;01mtry\u001b[39;00m:\n\u001b[1;32m--> 197\u001b[0m         value_or_values \u001b[38;5;241m=\u001b[39m func(trial)\n\u001b[0;32m    198\u001b[0m     \u001b[38;5;28;01mexcept\u001b[39;00m exceptions\u001b[38;5;241m.\u001b[39mTrialPruned \u001b[38;5;28;01mas\u001b[39;00m e:\n\u001b[0;32m    199\u001b[0m         \u001b[38;5;66;03m# TODO(mamu): Handle multi-objective cases.\u001b[39;00m\n\u001b[0;32m    200\u001b[0m         state \u001b[38;5;241m=\u001b[39m TrialState\u001b[38;5;241m.\u001b[39mPRUNED\n",
      "Cell \u001b[1;32mIn[47], line 45\u001b[0m, in \u001b[0;36mobjective_cb\u001b[1;34m(trial)\u001b[0m\n\u001b[0;32m     42\u001b[0m X_resampled, y_resampled \u001b[38;5;241m=\u001b[39m rus\u001b[38;5;241m.\u001b[39mfit_resample(X_train, y_train)\n\u001b[0;32m     44\u001b[0m cb \u001b[38;5;241m=\u001b[39m CatBoostClassifier(\u001b[38;5;241m*\u001b[39m\u001b[38;5;241m*\u001b[39mparams, silent\u001b[38;5;241m=\u001b[39m\u001b[38;5;28;01mTrue\u001b[39;00m)\n\u001b[1;32m---> 45\u001b[0m cb\u001b[38;5;241m.\u001b[39mfit(X_resampled, y_resampled)\n\u001b[0;32m     47\u001b[0m y_pred \u001b[38;5;241m=\u001b[39m cb\u001b[38;5;241m.\u001b[39mpredict(X_val)\n\u001b[0;32m     49\u001b[0m y_pred_binary \u001b[38;5;241m=\u001b[39m np\u001b[38;5;241m.\u001b[39mwhere(y_pred \u001b[38;5;241m>\u001b[39m \u001b[38;5;241m0.5\u001b[39m, \u001b[38;5;241m1\u001b[39m, \u001b[38;5;241m0\u001b[39m)\n",
      "File \u001b[1;32mc:\\Users\\Imani\\anaconda3\\Lib\\site-packages\\catboost\\core.py:5245\u001b[0m, in \u001b[0;36mCatBoostClassifier.fit\u001b[1;34m(self, X, y, cat_features, text_features, embedding_features, graph, sample_weight, baseline, use_best_model, eval_set, verbose, logging_level, plot, plot_file, column_description, verbose_eval, metric_period, silent, early_stopping_rounds, save_snapshot, snapshot_file, snapshot_interval, init_model, callbacks, log_cout, log_cerr)\u001b[0m\n\u001b[0;32m   5242\u001b[0m \u001b[38;5;28;01mif\u001b[39;00m \u001b[38;5;124m'\u001b[39m\u001b[38;5;124mloss_function\u001b[39m\u001b[38;5;124m'\u001b[39m \u001b[38;5;129;01min\u001b[39;00m params:\n\u001b[0;32m   5243\u001b[0m     CatBoostClassifier\u001b[38;5;241m.\u001b[39m_check_is_compatible_loss(params[\u001b[38;5;124m'\u001b[39m\u001b[38;5;124mloss_function\u001b[39m\u001b[38;5;124m'\u001b[39m])\n\u001b[1;32m-> 5245\u001b[0m \u001b[38;5;28mself\u001b[39m\u001b[38;5;241m.\u001b[39m_fit(X, y, cat_features, text_features, embedding_features, \u001b[38;5;28;01mNone\u001b[39;00m, graph, sample_weight, \u001b[38;5;28;01mNone\u001b[39;00m, \u001b[38;5;28;01mNone\u001b[39;00m, \u001b[38;5;28;01mNone\u001b[39;00m, \u001b[38;5;28;01mNone\u001b[39;00m, baseline, use_best_model,\n\u001b[0;32m   5246\u001b[0m           eval_set, verbose, logging_level, plot, plot_file, column_description, verbose_eval, metric_period,\n\u001b[0;32m   5247\u001b[0m           silent, early_stopping_rounds, save_snapshot, snapshot_file, snapshot_interval, init_model, callbacks, log_cout, log_cerr)\n\u001b[0;32m   5248\u001b[0m \u001b[38;5;28;01mreturn\u001b[39;00m \u001b[38;5;28mself\u001b[39m\n",
      "File \u001b[1;32mc:\\Users\\Imani\\anaconda3\\Lib\\site-packages\\catboost\\core.py:2410\u001b[0m, in \u001b[0;36mCatBoost._fit\u001b[1;34m(self, X, y, cat_features, text_features, embedding_features, pairs, graph, sample_weight, group_id, group_weight, subgroup_id, pairs_weight, baseline, use_best_model, eval_set, verbose, logging_level, plot, plot_file, column_description, verbose_eval, metric_period, silent, early_stopping_rounds, save_snapshot, snapshot_file, snapshot_interval, init_model, callbacks, log_cout, log_cerr)\u001b[0m\n\u001b[0;32m   2407\u001b[0m allow_clear_pool \u001b[38;5;241m=\u001b[39m train_params[\u001b[38;5;124m\"\u001b[39m\u001b[38;5;124mallow_clear_pool\u001b[39m\u001b[38;5;124m\"\u001b[39m]\n\u001b[0;32m   2409\u001b[0m \u001b[38;5;28;01mwith\u001b[39;00m plot_wrapper(plot, plot_file, \u001b[38;5;124m'\u001b[39m\u001b[38;5;124mTraining plots\u001b[39m\u001b[38;5;124m'\u001b[39m, [_get_train_dir(\u001b[38;5;28mself\u001b[39m\u001b[38;5;241m.\u001b[39mget_params())]):\n\u001b[1;32m-> 2410\u001b[0m     \u001b[38;5;28mself\u001b[39m\u001b[38;5;241m.\u001b[39m_train(\n\u001b[0;32m   2411\u001b[0m         train_pool,\n\u001b[0;32m   2412\u001b[0m         train_params[\u001b[38;5;124m\"\u001b[39m\u001b[38;5;124meval_sets\u001b[39m\u001b[38;5;124m\"\u001b[39m],\n\u001b[0;32m   2413\u001b[0m         params,\n\u001b[0;32m   2414\u001b[0m         allow_clear_pool,\n\u001b[0;32m   2415\u001b[0m         train_params[\u001b[38;5;124m\"\u001b[39m\u001b[38;5;124minit_model\u001b[39m\u001b[38;5;124m\"\u001b[39m]\n\u001b[0;32m   2416\u001b[0m     )\n\u001b[0;32m   2418\u001b[0m \u001b[38;5;66;03m# Have property feature_importance possibly set\u001b[39;00m\n\u001b[0;32m   2419\u001b[0m loss \u001b[38;5;241m=\u001b[39m \u001b[38;5;28mself\u001b[39m\u001b[38;5;241m.\u001b[39m_object\u001b[38;5;241m.\u001b[39m_get_loss_function_name()\n",
      "File \u001b[1;32mc:\\Users\\Imani\\anaconda3\\Lib\\site-packages\\catboost\\core.py:1790\u001b[0m, in \u001b[0;36m_CatBoostBase._train\u001b[1;34m(self, train_pool, test_pool, params, allow_clear_pool, init_model)\u001b[0m\n\u001b[0;32m   1789\u001b[0m \u001b[38;5;28;01mdef\u001b[39;00m \u001b[38;5;21m_train\u001b[39m(\u001b[38;5;28mself\u001b[39m, train_pool, test_pool, params, allow_clear_pool, init_model):\n\u001b[1;32m-> 1790\u001b[0m     \u001b[38;5;28mself\u001b[39m\u001b[38;5;241m.\u001b[39m_object\u001b[38;5;241m.\u001b[39m_train(train_pool, test_pool, params, allow_clear_pool, init_model\u001b[38;5;241m.\u001b[39m_object \u001b[38;5;28;01mif\u001b[39;00m init_model \u001b[38;5;28;01melse\u001b[39;00m \u001b[38;5;28;01mNone\u001b[39;00m)\n\u001b[0;32m   1791\u001b[0m     \u001b[38;5;28mself\u001b[39m\u001b[38;5;241m.\u001b[39m_set_trained_model_attributes()\n",
      "File \u001b[1;32m_catboost.pyx:5017\u001b[0m, in \u001b[0;36m_catboost._CatBoost._train\u001b[1;34m()\u001b[0m\n",
      "File \u001b[1;32m_catboost.pyx:5066\u001b[0m, in \u001b[0;36m_catboost._CatBoost._train\u001b[1;34m()\u001b[0m\n",
      "\u001b[1;31mKeyboardInterrupt\u001b[0m: "
     ]
    }
   ],
   "source": [
    "study = optuna.create_study(direction='maximize')\n",
    "study.optimize(objective_cb, n_trials = 100, n_jobs = 1, show_progress_bar = True)"
   ]
  },
  {
   "cell_type": "code",
   "execution_count": null,
   "metadata": {},
   "outputs": [],
   "source": []
  }
 ],
 "metadata": {
  "kernelspec": {
   "display_name": "base",
   "language": "python",
   "name": "python3"
  },
  "language_info": {
   "codemirror_mode": {
    "name": "ipython",
    "version": 3
   },
   "file_extension": ".py",
   "mimetype": "text/x-python",
   "name": "python",
   "nbconvert_exporter": "python",
   "pygments_lexer": "ipython3",
   "version": "3.12.3"
  }
 },
 "nbformat": 4,
 "nbformat_minor": 2
}
